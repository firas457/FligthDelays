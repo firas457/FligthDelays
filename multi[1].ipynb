{
 "cells": [
  {
   "cell_type": "markdown",
   "metadata": {
    "collapsed": false
   },
   "source": [
    "# _Predicting Flight Delays_"
   ]
  },
  {
   "cell_type": "code",
   "execution_count": 1,
   "metadata": {
    "collapsed": false
   },
   "outputs": [
    {
     "ename": "ModuleNotFoundError",
     "evalue": "No module named 'tensorflow'",
     "output_type": "error",
     "traceback": [
      "\u001b[1;31m---------------------------------------------------------------------------\u001b[0m",
      "\u001b[1;31mModuleNotFoundError\u001b[0m                       Traceback (most recent call last)",
      "Cell \u001b[1;32mIn [1], line 1\u001b[0m\n\u001b[1;32m----> 1\u001b[0m \u001b[39mimport\u001b[39;00m \u001b[39mtensorflow\u001b[39;00m\u001b[39m.\u001b[39;00m\u001b[39mcompat\u001b[39;00m\u001b[39m.\u001b[39;00m\u001b[39mv1\u001b[39;00m \u001b[39mas\u001b[39;00m \u001b[39mtf\u001b[39;00m\n\u001b[0;32m      2\u001b[0m tf\u001b[39m.\u001b[39mdisable_v2_behavior()\n\u001b[0;32m      3\u001b[0m \u001b[39mimport\u001b[39;00m \u001b[39mnumpy\u001b[39;00m \u001b[39mas\u001b[39;00m \u001b[39mnp\u001b[39;00m\n",
      "\u001b[1;31mModuleNotFoundError\u001b[0m: No module named 'tensorflow'"
     ]
    }
   ],
   "source": [
    "import tensorflow.compat.v1 as tf\n",
    "tf.disable_v2_behavior()\n",
    "import numpy as np\n",
    "import pandas as pd\n",
    "from collections import Counter\n",
    "from imblearn.over_sampling import SMOTE\n",
    "from sklearn.preprocessing import StandardScaler\n",
    "from sklearn.model_selection import train_test_split"
   ]
  },
  {
   "cell_type": "markdown",
   "metadata": {
    "collapsed": false
   },
   "source": [
    "### Reading and cleaning data:"
   ]
  },
  {
   "cell_type": "code",
   "execution_count": null,
   "metadata": {
    "collapsed": false
   },
   "outputs": [
    {
     "data": {
      "text/html": [
       "<div>\n",
       "<style scoped>\n",
       "    .dataframe tbody tr th:only-of-type {\n",
       "        vertical-align: middle;\n",
       "    }\n",
       "\n",
       "    .dataframe tbody tr th {\n",
       "        vertical-align: top;\n",
       "    }\n",
       "\n",
       "    .dataframe thead th {\n",
       "        text-align: right;\n",
       "    }\n",
       "</style>\n",
       "<table border=\"1\" class=\"dataframe\">\n",
       "  <thead>\n",
       "    <tr style=\"text-align: right;\">\n",
       "      <th></th>\n",
       "      <th>YEAR</th>\n",
       "      <th>QUARTER</th>\n",
       "      <th>MONTH</th>\n",
       "      <th>DAY_OF_MONTH</th>\n",
       "      <th>DAY_OF_WEEK</th>\n",
       "      <th>FL_DATE</th>\n",
       "      <th>MKT_UNIQUE_CARRIER</th>\n",
       "      <th>BRANDED_CODE_SHARE</th>\n",
       "      <th>MKT_CARRIER_AIRLINE_ID</th>\n",
       "      <th>MKT_CARRIER_FL_NUM</th>\n",
       "      <th>...</th>\n",
       "      <th>AIR_TIME</th>\n",
       "      <th>FLIGHTS</th>\n",
       "      <th>DISTANCE</th>\n",
       "      <th>DISTANCE_GROUP</th>\n",
       "      <th>CARRIER_DELAY</th>\n",
       "      <th>WEATHER_DELAY</th>\n",
       "      <th>NAS_DELAY</th>\n",
       "      <th>SECURITY_DELAY</th>\n",
       "      <th>LATE_AIRCRAFT_DELAY</th>\n",
       "      <th>DIV_AIRPORT_LANDINGS</th>\n",
       "    </tr>\n",
       "  </thead>\n",
       "  <tbody>\n",
       "    <tr>\n",
       "      <th>0</th>\n",
       "      <td>2022</td>\n",
       "      <td>3</td>\n",
       "      <td>8</td>\n",
       "      <td>18</td>\n",
       "      <td>4</td>\n",
       "      <td>8/18/2022 0:00</td>\n",
       "      <td>DL</td>\n",
       "      <td>DL_CODESHARE</td>\n",
       "      <td>19790</td>\n",
       "      <td>4036</td>\n",
       "      <td>...</td>\n",
       "      <td>118.0</td>\n",
       "      <td>1</td>\n",
       "      <td>780</td>\n",
       "      <td>4</td>\n",
       "      <td>NaN</td>\n",
       "      <td>NaN</td>\n",
       "      <td>NaN</td>\n",
       "      <td>NaN</td>\n",
       "      <td>NaN</td>\n",
       "      <td>0</td>\n",
       "    </tr>\n",
       "    <tr>\n",
       "      <th>1</th>\n",
       "      <td>2022</td>\n",
       "      <td>3</td>\n",
       "      <td>8</td>\n",
       "      <td>18</td>\n",
       "      <td>4</td>\n",
       "      <td>8/18/2022 0:00</td>\n",
       "      <td>DL</td>\n",
       "      <td>DL_CODESHARE</td>\n",
       "      <td>19790</td>\n",
       "      <td>4037</td>\n",
       "      <td>...</td>\n",
       "      <td>61.0</td>\n",
       "      <td>1</td>\n",
       "      <td>296</td>\n",
       "      <td>2</td>\n",
       "      <td>NaN</td>\n",
       "      <td>NaN</td>\n",
       "      <td>NaN</td>\n",
       "      <td>NaN</td>\n",
       "      <td>NaN</td>\n",
       "      <td>0</td>\n",
       "    </tr>\n",
       "    <tr>\n",
       "      <th>2</th>\n",
       "      <td>2022</td>\n",
       "      <td>3</td>\n",
       "      <td>8</td>\n",
       "      <td>18</td>\n",
       "      <td>4</td>\n",
       "      <td>8/18/2022 0:00</td>\n",
       "      <td>DL</td>\n",
       "      <td>DL_CODESHARE</td>\n",
       "      <td>19790</td>\n",
       "      <td>4038</td>\n",
       "      <td>...</td>\n",
       "      <td>50.0</td>\n",
       "      <td>1</td>\n",
       "      <td>296</td>\n",
       "      <td>2</td>\n",
       "      <td>NaN</td>\n",
       "      <td>NaN</td>\n",
       "      <td>NaN</td>\n",
       "      <td>NaN</td>\n",
       "      <td>NaN</td>\n",
       "      <td>0</td>\n",
       "    </tr>\n",
       "    <tr>\n",
       "      <th>3</th>\n",
       "      <td>2022</td>\n",
       "      <td>3</td>\n",
       "      <td>8</td>\n",
       "      <td>18</td>\n",
       "      <td>4</td>\n",
       "      <td>8/18/2022 0:00</td>\n",
       "      <td>DL</td>\n",
       "      <td>DL_CODESHARE</td>\n",
       "      <td>19790</td>\n",
       "      <td>4039</td>\n",
       "      <td>...</td>\n",
       "      <td>50.0</td>\n",
       "      <td>1</td>\n",
       "      <td>296</td>\n",
       "      <td>2</td>\n",
       "      <td>NaN</td>\n",
       "      <td>NaN</td>\n",
       "      <td>NaN</td>\n",
       "      <td>NaN</td>\n",
       "      <td>NaN</td>\n",
       "      <td>0</td>\n",
       "    </tr>\n",
       "    <tr>\n",
       "      <th>4</th>\n",
       "      <td>2022</td>\n",
       "      <td>3</td>\n",
       "      <td>8</td>\n",
       "      <td>18</td>\n",
       "      <td>4</td>\n",
       "      <td>8/18/2022 0:00</td>\n",
       "      <td>DL</td>\n",
       "      <td>DL_CODESHARE</td>\n",
       "      <td>19790</td>\n",
       "      <td>4040</td>\n",
       "      <td>...</td>\n",
       "      <td>50.0</td>\n",
       "      <td>1</td>\n",
       "      <td>284</td>\n",
       "      <td>2</td>\n",
       "      <td>29.0</td>\n",
       "      <td>0.0</td>\n",
       "      <td>0.0</td>\n",
       "      <td>0.0</td>\n",
       "      <td>0.0</td>\n",
       "      <td>0</td>\n",
       "    </tr>\n",
       "    <tr>\n",
       "      <th>...</th>\n",
       "      <td>...</td>\n",
       "      <td>...</td>\n",
       "      <td>...</td>\n",
       "      <td>...</td>\n",
       "      <td>...</td>\n",
       "      <td>...</td>\n",
       "      <td>...</td>\n",
       "      <td>...</td>\n",
       "      <td>...</td>\n",
       "      <td>...</td>\n",
       "      <td>...</td>\n",
       "      <td>...</td>\n",
       "      <td>...</td>\n",
       "      <td>...</td>\n",
       "      <td>...</td>\n",
       "      <td>...</td>\n",
       "      <td>...</td>\n",
       "      <td>...</td>\n",
       "      <td>...</td>\n",
       "      <td>...</td>\n",
       "      <td>...</td>\n",
       "    </tr>\n",
       "    <tr>\n",
       "      <th>613644</th>\n",
       "      <td>2022</td>\n",
       "      <td>3</td>\n",
       "      <td>8</td>\n",
       "      <td>1</td>\n",
       "      <td>1</td>\n",
       "      <td>8/1/2022 0:00</td>\n",
       "      <td>UA</td>\n",
       "      <td>UA_CODESHARE</td>\n",
       "      <td>19977</td>\n",
       "      <td>3404</td>\n",
       "      <td>...</td>\n",
       "      <td>46.0</td>\n",
       "      <td>1</td>\n",
       "      <td>200</td>\n",
       "      <td>1</td>\n",
       "      <td>NaN</td>\n",
       "      <td>NaN</td>\n",
       "      <td>NaN</td>\n",
       "      <td>NaN</td>\n",
       "      <td>NaN</td>\n",
       "      <td>0</td>\n",
       "    </tr>\n",
       "    <tr>\n",
       "      <th>613645</th>\n",
       "      <td>2022</td>\n",
       "      <td>3</td>\n",
       "      <td>8</td>\n",
       "      <td>1</td>\n",
       "      <td>1</td>\n",
       "      <td>8/1/2022 0:00</td>\n",
       "      <td>UA</td>\n",
       "      <td>UA_CODESHARE</td>\n",
       "      <td>19977</td>\n",
       "      <td>3403</td>\n",
       "      <td>...</td>\n",
       "      <td>33.0</td>\n",
       "      <td>1</td>\n",
       "      <td>143</td>\n",
       "      <td>1</td>\n",
       "      <td>NaN</td>\n",
       "      <td>NaN</td>\n",
       "      <td>NaN</td>\n",
       "      <td>NaN</td>\n",
       "      <td>NaN</td>\n",
       "      <td>0</td>\n",
       "    </tr>\n",
       "    <tr>\n",
       "      <th>613646</th>\n",
       "      <td>2022</td>\n",
       "      <td>3</td>\n",
       "      <td>8</td>\n",
       "      <td>1</td>\n",
       "      <td>1</td>\n",
       "      <td>8/1/2022 0:00</td>\n",
       "      <td>UA</td>\n",
       "      <td>UA_CODESHARE</td>\n",
       "      <td>19977</td>\n",
       "      <td>3402</td>\n",
       "      <td>...</td>\n",
       "      <td>109.0</td>\n",
       "      <td>1</td>\n",
       "      <td>748</td>\n",
       "      <td>3</td>\n",
       "      <td>NaN</td>\n",
       "      <td>NaN</td>\n",
       "      <td>NaN</td>\n",
       "      <td>NaN</td>\n",
       "      <td>NaN</td>\n",
       "      <td>0</td>\n",
       "    </tr>\n",
       "    <tr>\n",
       "      <th>613647</th>\n",
       "      <td>2022</td>\n",
       "      <td>3</td>\n",
       "      <td>8</td>\n",
       "      <td>1</td>\n",
       "      <td>1</td>\n",
       "      <td>8/1/2022 0:00</td>\n",
       "      <td>UA</td>\n",
       "      <td>UA_CODESHARE</td>\n",
       "      <td>19977</td>\n",
       "      <td>3401</td>\n",
       "      <td>...</td>\n",
       "      <td>55.0</td>\n",
       "      <td>1</td>\n",
       "      <td>282</td>\n",
       "      <td>2</td>\n",
       "      <td>NaN</td>\n",
       "      <td>NaN</td>\n",
       "      <td>NaN</td>\n",
       "      <td>NaN</td>\n",
       "      <td>NaN</td>\n",
       "      <td>0</td>\n",
       "    </tr>\n",
       "    <tr>\n",
       "      <th>613648</th>\n",
       "      <td>2022</td>\n",
       "      <td>3</td>\n",
       "      <td>8</td>\n",
       "      <td>1</td>\n",
       "      <td>1</td>\n",
       "      <td>8/1/2022 0:00</td>\n",
       "      <td>UA</td>\n",
       "      <td>UA_CODESHARE</td>\n",
       "      <td>19977</td>\n",
       "      <td>3400</td>\n",
       "      <td>...</td>\n",
       "      <td>47.0</td>\n",
       "      <td>1</td>\n",
       "      <td>200</td>\n",
       "      <td>1</td>\n",
       "      <td>NaN</td>\n",
       "      <td>NaN</td>\n",
       "      <td>NaN</td>\n",
       "      <td>NaN</td>\n",
       "      <td>NaN</td>\n",
       "      <td>0</td>\n",
       "    </tr>\n",
       "  </tbody>\n",
       "</table>\n",
       "<p>613649 rows × 60 columns</p>\n",
       "</div>"
      ],
      "text/plain": [
       "        YEAR  QUARTER  MONTH  DAY_OF_MONTH  DAY_OF_WEEK         FL_DATE  \\\n",
       "0       2022        3      8            18            4  8/18/2022 0:00   \n",
       "1       2022        3      8            18            4  8/18/2022 0:00   \n",
       "2       2022        3      8            18            4  8/18/2022 0:00   \n",
       "3       2022        3      8            18            4  8/18/2022 0:00   \n",
       "4       2022        3      8            18            4  8/18/2022 0:00   \n",
       "...      ...      ...    ...           ...          ...             ...   \n",
       "613644  2022        3      8             1            1   8/1/2022 0:00   \n",
       "613645  2022        3      8             1            1   8/1/2022 0:00   \n",
       "613646  2022        3      8             1            1   8/1/2022 0:00   \n",
       "613647  2022        3      8             1            1   8/1/2022 0:00   \n",
       "613648  2022        3      8             1            1   8/1/2022 0:00   \n",
       "\n",
       "       MKT_UNIQUE_CARRIER BRANDED_CODE_SHARE  MKT_CARRIER_AIRLINE_ID  \\\n",
       "0                      DL       DL_CODESHARE                   19790   \n",
       "1                      DL       DL_CODESHARE                   19790   \n",
       "2                      DL       DL_CODESHARE                   19790   \n",
       "3                      DL       DL_CODESHARE                   19790   \n",
       "4                      DL       DL_CODESHARE                   19790   \n",
       "...                   ...                ...                     ...   \n",
       "613644                 UA       UA_CODESHARE                   19977   \n",
       "613645                 UA       UA_CODESHARE                   19977   \n",
       "613646                 UA       UA_CODESHARE                   19977   \n",
       "613647                 UA       UA_CODESHARE                   19977   \n",
       "613648                 UA       UA_CODESHARE                   19977   \n",
       "\n",
       "        MKT_CARRIER_FL_NUM  ... AIR_TIME  FLIGHTS  DISTANCE  DISTANCE_GROUP  \\\n",
       "0                     4036  ...    118.0        1       780               4   \n",
       "1                     4037  ...     61.0        1       296               2   \n",
       "2                     4038  ...     50.0        1       296               2   \n",
       "3                     4039  ...     50.0        1       296               2   \n",
       "4                     4040  ...     50.0        1       284               2   \n",
       "...                    ...  ...      ...      ...       ...             ...   \n",
       "613644                3404  ...     46.0        1       200               1   \n",
       "613645                3403  ...     33.0        1       143               1   \n",
       "613646                3402  ...    109.0        1       748               3   \n",
       "613647                3401  ...     55.0        1       282               2   \n",
       "613648                3400  ...     47.0        1       200               1   \n",
       "\n",
       "        CARRIER_DELAY WEATHER_DELAY NAS_DELAY SECURITY_DELAY  \\\n",
       "0                 NaN           NaN       NaN            NaN   \n",
       "1                 NaN           NaN       NaN            NaN   \n",
       "2                 NaN           NaN       NaN            NaN   \n",
       "3                 NaN           NaN       NaN            NaN   \n",
       "4                29.0           0.0       0.0            0.0   \n",
       "...               ...           ...       ...            ...   \n",
       "613644            NaN           NaN       NaN            NaN   \n",
       "613645            NaN           NaN       NaN            NaN   \n",
       "613646            NaN           NaN       NaN            NaN   \n",
       "613647            NaN           NaN       NaN            NaN   \n",
       "613648            NaN           NaN       NaN            NaN   \n",
       "\n",
       "       LATE_AIRCRAFT_DELAY  DIV_AIRPORT_LANDINGS  \n",
       "0                      NaN                     0  \n",
       "1                      NaN                     0  \n",
       "2                      NaN                     0  \n",
       "3                      NaN                     0  \n",
       "4                      0.0                     0  \n",
       "...                    ...                   ...  \n",
       "613644                 NaN                     0  \n",
       "613645                 NaN                     0  \n",
       "613646                 NaN                     0  \n",
       "613647                 NaN                     0  \n",
       "613648                 NaN                     0  \n",
       "\n",
       "[613649 rows x 60 columns]"
      ]
     },
     "execution_count": 99,
     "metadata": {},
     "output_type": "execute_result"
    }
   ],
   "source": [
    "df = pd.read_csv('\"C:\\Users\\97250\\Downloads\\DataSet.csv\"')\n",
    "df"
   ]
  },
  {
   "cell_type": "markdown",
   "metadata": {
    "collapsed": false
   },
   "source": [
    "Searching for the least amount of unique values in  each column to get rid of them."
   ]
  },
  {
   "cell_type": "code",
   "execution_count": null,
   "metadata": {
    "collapsed": false
   },
   "outputs": [
    {
     "name": "stdout",
     "output_type": "stream",
     "text": [
      "YEAR                         1\n",
      "QUARTER                      1\n",
      "MONTH                        1\n",
      "DAY_OF_MONTH                31\n",
      "DAY_OF_WEEK                  7\n",
      "FL_DATE                     31\n",
      "MKT_UNIQUE_CARRIER          10\n",
      "BRANDED_CODE_SHARE          14\n",
      "MKT_CARRIER_AIRLINE_ID      10\n",
      "MKT_CARRIER_FL_NUM        6278\n",
      "TAIL_NUM                  5645\n",
      "OP_CARRIER_FL_NUM         6278\n",
      "ORIGIN_AIRPORT_ID          368\n",
      "ORIGIN_AIRPORT_SEQ_ID      368\n",
      "ORIGIN_CITY_MARKET_ID      344\n",
      "ORIGIN                     368\n",
      "ORIGIN_CITY_NAME           362\n",
      "ORIGIN_STATE_ABR            52\n",
      "ORIGIN_STATE_NM             52\n",
      "ORIGIN_WAC                  52\n",
      "DEST_AIRPORT_ID            368\n",
      "DEST_AIRPORT_SEQ_ID        368\n",
      "DEST_CITY_MARKET_ID        344\n",
      "DEST                       368\n",
      "DEST_CITY_NAME             362\n",
      "DEST_STATE_ABR              52\n",
      "DEST_STATE_NM               52\n",
      "DEST_WAC                    52\n",
      "CRS_DEP_TIME              1194\n",
      "DEP_TIME                  1414\n",
      "DEP_DELAY                 1130\n",
      "DEP_DELAY_NEW             1089\n",
      "DEP_DEL15                    2\n",
      "DEP_DELAY_GROUP             15\n",
      "DEP_TIME_BLK                19\n",
      "TAXI_OUT                   180\n",
      "WHEELS_OFF                1410\n",
      "WHEELS_ON                 1440\n",
      "TAXI_IN                    174\n",
      "CRS_ARR_TIME              1267\n",
      "ARR_TIME                  1440\n",
      "ARR_DELAY                 1164\n",
      "ARR_DELAY_NEW             1092\n",
      "ARR_DEL15                    2\n",
      "ARR_DELAY_GROUP             15\n",
      "ARR_TIME_BLK                19\n",
      "CANCELLED                    2\n",
      "DUP                          1\n",
      "CRS_ELAPSED_TIME           432\n",
      "ACTUAL_ELAPSED_TIME        631\n",
      "AIR_TIME                   605\n",
      "FLIGHTS                      1\n",
      "DISTANCE                  1499\n",
      "DISTANCE_GROUP              11\n",
      "CARRIER_DELAY              919\n",
      "WEATHER_DELAY              460\n",
      "NAS_DELAY                  458\n",
      "SECURITY_DELAY             152\n",
      "LATE_AIRCRAFT_DELAY        606\n",
      "DIV_AIRPORT_LANDINGS         4\n",
      "dtype: int64\n"
     ]
    }
   ],
   "source": [
    "print(df.nunique())"
   ]
  },
  {
   "cell_type": "code",
   "execution_count": null,
   "metadata": {
    "collapsed": false
   },
   "outputs": [],
   "source": [
    "df.drop(['YEAR', 'QUARTER', 'MONTH', 'DUP', 'CANCELLED', 'DEP_DEL15', 'ARR_DEL15', 'FLIGHTS', 'DIV_AIRPORT_LANDINGS'], axis=1, inplace=True)"
   ]
  },
  {
   "cell_type": "markdown",
   "metadata": {
    "collapsed": false
   },
   "source": [
    "As we can tell there are a few columns that describe almost the same thing.\n",
    "We want to drop them as well."
   ]
  },
  {
   "cell_type": "code",
   "execution_count": null,
   "metadata": {
    "collapsed": false
   },
   "outputs": [
    {
     "data": {
      "text/html": [
       "<div>\n",
       "<style scoped>\n",
       "    .dataframe tbody tr th:only-of-type {\n",
       "        vertical-align: middle;\n",
       "    }\n",
       "\n",
       "    .dataframe tbody tr th {\n",
       "        vertical-align: top;\n",
       "    }\n",
       "\n",
       "    .dataframe thead th {\n",
       "        text-align: right;\n",
       "    }\n",
       "</style>\n",
       "<table border=\"1\" class=\"dataframe\">\n",
       "  <thead>\n",
       "    <tr style=\"text-align: right;\">\n",
       "      <th></th>\n",
       "      <th>DAY_OF_MONTH</th>\n",
       "      <th>DAY_OF_WEEK</th>\n",
       "      <th>MKT_CARRIER_AIRLINE_ID</th>\n",
       "      <th>MKT_CARRIER_FL_NUM</th>\n",
       "      <th>ORIGIN_AIRPORT_ID</th>\n",
       "      <th>DEST_AIRPORT_ID</th>\n",
       "      <th>CRS_DEP_TIME</th>\n",
       "      <th>DEP_DELAY_NEW</th>\n",
       "      <th>TAXI_OUT</th>\n",
       "      <th>WHEELS_OFF</th>\n",
       "      <th>...</th>\n",
       "      <th>ARR_DELAY</th>\n",
       "      <th>CRS_ELAPSED_TIME</th>\n",
       "      <th>ACTUAL_ELAPSED_TIME</th>\n",
       "      <th>AIR_TIME</th>\n",
       "      <th>DISTANCE</th>\n",
       "      <th>CARRIER_DELAY</th>\n",
       "      <th>WEATHER_DELAY</th>\n",
       "      <th>NAS_DELAY</th>\n",
       "      <th>SECURITY_DELAY</th>\n",
       "      <th>LATE_AIRCRAFT_DELAY</th>\n",
       "    </tr>\n",
       "  </thead>\n",
       "  <tbody>\n",
       "    <tr>\n",
       "      <th>0</th>\n",
       "      <td>18</td>\n",
       "      <td>4</td>\n",
       "      <td>19790</td>\n",
       "      <td>4036</td>\n",
       "      <td>12197</td>\n",
       "      <td>10397</td>\n",
       "      <td>1240</td>\n",
       "      <td>0.0</td>\n",
       "      <td>13.0</td>\n",
       "      <td>1248.0</td>\n",
       "      <td>...</td>\n",
       "      <td>-4.0</td>\n",
       "      <td>140</td>\n",
       "      <td>141.0</td>\n",
       "      <td>118.0</td>\n",
       "      <td>780</td>\n",
       "      <td>NaN</td>\n",
       "      <td>NaN</td>\n",
       "      <td>NaN</td>\n",
       "      <td>NaN</td>\n",
       "      <td>NaN</td>\n",
       "    </tr>\n",
       "    <tr>\n",
       "      <th>1</th>\n",
       "      <td>18</td>\n",
       "      <td>4</td>\n",
       "      <td>19790</td>\n",
       "      <td>4037</td>\n",
       "      <td>11433</td>\n",
       "      <td>10408</td>\n",
       "      <td>2146</td>\n",
       "      <td>0.0</td>\n",
       "      <td>20.0</td>\n",
       "      <td>2158.0</td>\n",
       "      <td>...</td>\n",
       "      <td>0.0</td>\n",
       "      <td>78</td>\n",
       "      <td>86.0</td>\n",
       "      <td>61.0</td>\n",
       "      <td>296</td>\n",
       "      <td>NaN</td>\n",
       "      <td>NaN</td>\n",
       "      <td>NaN</td>\n",
       "      <td>NaN</td>\n",
       "      <td>NaN</td>\n",
       "    </tr>\n",
       "    <tr>\n",
       "      <th>2</th>\n",
       "      <td>18</td>\n",
       "      <td>4</td>\n",
       "      <td>19790</td>\n",
       "      <td>4038</td>\n",
       "      <td>11433</td>\n",
       "      <td>10408</td>\n",
       "      <td>1555</td>\n",
       "      <td>0.0</td>\n",
       "      <td>15.0</td>\n",
       "      <td>1606.0</td>\n",
       "      <td>...</td>\n",
       "      <td>-19.0</td>\n",
       "      <td>84</td>\n",
       "      <td>69.0</td>\n",
       "      <td>50.0</td>\n",
       "      <td>296</td>\n",
       "      <td>NaN</td>\n",
       "      <td>NaN</td>\n",
       "      <td>NaN</td>\n",
       "      <td>NaN</td>\n",
       "      <td>NaN</td>\n",
       "    </tr>\n",
       "    <tr>\n",
       "      <th>3</th>\n",
       "      <td>18</td>\n",
       "      <td>4</td>\n",
       "      <td>19790</td>\n",
       "      <td>4039</td>\n",
       "      <td>10408</td>\n",
       "      <td>11433</td>\n",
       "      <td>1755</td>\n",
       "      <td>0.0</td>\n",
       "      <td>18.0</td>\n",
       "      <td>1812.0</td>\n",
       "      <td>...</td>\n",
       "      <td>-13.0</td>\n",
       "      <td>89</td>\n",
       "      <td>77.0</td>\n",
       "      <td>50.0</td>\n",
       "      <td>296</td>\n",
       "      <td>NaN</td>\n",
       "      <td>NaN</td>\n",
       "      <td>NaN</td>\n",
       "      <td>NaN</td>\n",
       "      <td>NaN</td>\n",
       "    </tr>\n",
       "    <tr>\n",
       "      <th>4</th>\n",
       "      <td>18</td>\n",
       "      <td>4</td>\n",
       "      <td>19790</td>\n",
       "      <td>4040</td>\n",
       "      <td>11898</td>\n",
       "      <td>13487</td>\n",
       "      <td>1311</td>\n",
       "      <td>41.0</td>\n",
       "      <td>9.0</td>\n",
       "      <td>1401.0</td>\n",
       "      <td>...</td>\n",
       "      <td>29.0</td>\n",
       "      <td>75</td>\n",
       "      <td>63.0</td>\n",
       "      <td>50.0</td>\n",
       "      <td>284</td>\n",
       "      <td>29.0</td>\n",
       "      <td>0.0</td>\n",
       "      <td>0.0</td>\n",
       "      <td>0.0</td>\n",
       "      <td>0.0</td>\n",
       "    </tr>\n",
       "  </tbody>\n",
       "</table>\n",
       "<p>5 rows × 24 columns</p>\n",
       "</div>"
      ],
      "text/plain": [
       "   DAY_OF_MONTH  DAY_OF_WEEK  MKT_CARRIER_AIRLINE_ID  MKT_CARRIER_FL_NUM  \\\n",
       "0            18            4                   19790                4036   \n",
       "1            18            4                   19790                4037   \n",
       "2            18            4                   19790                4038   \n",
       "3            18            4                   19790                4039   \n",
       "4            18            4                   19790                4040   \n",
       "\n",
       "   ORIGIN_AIRPORT_ID  DEST_AIRPORT_ID  CRS_DEP_TIME  DEP_DELAY_NEW  TAXI_OUT  \\\n",
       "0              12197            10397          1240            0.0      13.0   \n",
       "1              11433            10408          2146            0.0      20.0   \n",
       "2              11433            10408          1555            0.0      15.0   \n",
       "3              10408            11433          1755            0.0      18.0   \n",
       "4              11898            13487          1311           41.0       9.0   \n",
       "\n",
       "   WHEELS_OFF  ...  ARR_DELAY  CRS_ELAPSED_TIME  ACTUAL_ELAPSED_TIME  \\\n",
       "0      1248.0  ...       -4.0               140                141.0   \n",
       "1      2158.0  ...        0.0                78                 86.0   \n",
       "2      1606.0  ...      -19.0                84                 69.0   \n",
       "3      1812.0  ...      -13.0                89                 77.0   \n",
       "4      1401.0  ...       29.0                75                 63.0   \n",
       "\n",
       "   AIR_TIME  DISTANCE  CARRIER_DELAY  WEATHER_DELAY  NAS_DELAY  \\\n",
       "0     118.0       780            NaN            NaN        NaN   \n",
       "1      61.0       296            NaN            NaN        NaN   \n",
       "2      50.0       296            NaN            NaN        NaN   \n",
       "3      50.0       296            NaN            NaN        NaN   \n",
       "4      50.0       284           29.0            0.0        0.0   \n",
       "\n",
       "   SECURITY_DELAY  LATE_AIRCRAFT_DELAY  \n",
       "0             NaN                  NaN  \n",
       "1             NaN                  NaN  \n",
       "2             NaN                  NaN  \n",
       "3             NaN                  NaN  \n",
       "4             0.0                  0.0  \n",
       "\n",
       "[5 rows x 24 columns]"
      ]
     },
     "execution_count": 102,
     "metadata": {},
     "output_type": "execute_result"
    }
   ],
   "source": [
    "df.drop(['FL_DATE', 'MKT_UNIQUE_CARRIER', 'BRANDED_CODE_SHARE', 'TAIL_NUM', 'OP_CARRIER_FL_NUM',\n",
    "         'ORIGIN_AIRPORT_SEQ_ID', 'ORIGIN', 'ORIGIN_CITY_MARKET_ID', 'ORIGIN', 'ORIGIN_CITY_NAME', 'ORIGIN_STATE_ABR', 'ORIGIN_STATE_NM', 'ORIGIN_WAC', 'ARR_DELAY_GROUP',\n",
    "         'DEST_AIRPORT_SEQ_ID', 'DEST_CITY_MARKET_ID', 'DEST', 'DEST_CITY_NAME', 'DEST_STATE_ABR', 'DEST_STATE_NM', 'DEST_WAC',\n",
    "         'DEP_DELAY', 'DEP_TIME', 'DEP_DELAY_GROUP', 'DEP_TIME_BLK', 'ARR_TIME_BLK', 'ARR_DELAY_NEW',\n",
    "         'DISTANCE_GROUP'], axis=1, inplace=True)\n",
    "df.head(5)"
   ]
  },
  {
   "cell_type": "markdown",
   "metadata": {
    "collapsed": false
   },
   "source": [
    "Looking for duplicated rows, to get rid of them."
   ]
  },
  {
   "cell_type": "code",
   "execution_count": null,
   "metadata": {
    "collapsed": false
   },
   "outputs": [
    {
     "data": {
      "text/html": [
       "<div>\n",
       "<style scoped>\n",
       "    .dataframe tbody tr th:only-of-type {\n",
       "        vertical-align: middle;\n",
       "    }\n",
       "\n",
       "    .dataframe tbody tr th {\n",
       "        vertical-align: top;\n",
       "    }\n",
       "\n",
       "    .dataframe thead th {\n",
       "        text-align: right;\n",
       "    }\n",
       "</style>\n",
       "<table border=\"1\" class=\"dataframe\">\n",
       "  <thead>\n",
       "    <tr style=\"text-align: right;\">\n",
       "      <th></th>\n",
       "      <th>DAY_OF_MONTH</th>\n",
       "      <th>DAY_OF_WEEK</th>\n",
       "      <th>MKT_CARRIER_AIRLINE_ID</th>\n",
       "      <th>MKT_CARRIER_FL_NUM</th>\n",
       "      <th>ORIGIN_AIRPORT_ID</th>\n",
       "      <th>DEST_AIRPORT_ID</th>\n",
       "      <th>CRS_DEP_TIME</th>\n",
       "      <th>DEP_DELAY_NEW</th>\n",
       "      <th>TAXI_OUT</th>\n",
       "      <th>WHEELS_OFF</th>\n",
       "      <th>...</th>\n",
       "      <th>ARR_DELAY</th>\n",
       "      <th>CRS_ELAPSED_TIME</th>\n",
       "      <th>ACTUAL_ELAPSED_TIME</th>\n",
       "      <th>AIR_TIME</th>\n",
       "      <th>DISTANCE</th>\n",
       "      <th>CARRIER_DELAY</th>\n",
       "      <th>WEATHER_DELAY</th>\n",
       "      <th>NAS_DELAY</th>\n",
       "      <th>SECURITY_DELAY</th>\n",
       "      <th>LATE_AIRCRAFT_DELAY</th>\n",
       "    </tr>\n",
       "  </thead>\n",
       "  <tbody>\n",
       "  </tbody>\n",
       "</table>\n",
       "<p>0 rows × 24 columns</p>\n",
       "</div>"
      ],
      "text/plain": [
       "Empty DataFrame\n",
       "Columns: [DAY_OF_MONTH, DAY_OF_WEEK, MKT_CARRIER_AIRLINE_ID, MKT_CARRIER_FL_NUM, ORIGIN_AIRPORT_ID, DEST_AIRPORT_ID, CRS_DEP_TIME, DEP_DELAY_NEW, TAXI_OUT, WHEELS_OFF, WHEELS_ON, TAXI_IN, CRS_ARR_TIME, ARR_TIME, ARR_DELAY, CRS_ELAPSED_TIME, ACTUAL_ELAPSED_TIME, AIR_TIME, DISTANCE, CARRIER_DELAY, WEATHER_DELAY, NAS_DELAY, SECURITY_DELAY, LATE_AIRCRAFT_DELAY]\n",
       "Index: []\n",
       "\n",
       "[0 rows x 24 columns]"
      ]
     },
     "execution_count": 103,
     "metadata": {},
     "output_type": "execute_result"
    }
   ],
   "source": [
    "df[df.duplicated()]"
   ]
  },
  {
   "cell_type": "markdown",
   "metadata": {
    "collapsed": false
   },
   "source": [
    "No duplicated rows were found."
   ]
  },
  {
   "cell_type": "markdown",
   "metadata": {
    "collapsed": false
   },
   "source": [
    "Checkin missing values"
   ]
  },
  {
   "cell_type": "code",
   "execution_count": null,
   "metadata": {
    "collapsed": false
   },
   "outputs": [
    {
     "data": {
      "text/plain": [
       "DAY_OF_MONTH                   0\n",
       "DAY_OF_WEEK                    0\n",
       "MKT_CARRIER_AIRLINE_ID         0\n",
       "MKT_CARRIER_FL_NUM             0\n",
       "ORIGIN_AIRPORT_ID              0\n",
       "DEST_AIRPORT_ID                0\n",
       "CRS_DEP_TIME                   0\n",
       "DEP_DELAY_NEW              14850\n",
       "TAXI_OUT                   15432\n",
       "WHEELS_OFF                 15432\n",
       "WHEELS_ON                  15616\n",
       "TAXI_IN                    15616\n",
       "CRS_ARR_TIME                   0\n",
       "ARR_TIME                   15616\n",
       "ARR_DELAY                  17365\n",
       "CRS_ELAPSED_TIME               0\n",
       "ACTUAL_ELAPSED_TIME        17365\n",
       "AIR_TIME                   17365\n",
       "DISTANCE                       0\n",
       "CARRIER_DELAY             481108\n",
       "WEATHER_DELAY             481108\n",
       "NAS_DELAY                 481108\n",
       "SECURITY_DELAY            481108\n",
       "LATE_AIRCRAFT_DELAY       481108\n",
       "dtype: int64"
      ]
     },
     "execution_count": 104,
     "metadata": {},
     "output_type": "execute_result"
    }
   ],
   "source": [
    "df.isnull().sum()"
   ]
  },
  {
   "cell_type": "markdown",
   "metadata": {
    "collapsed": false
   },
   "source": [
    "Filling NaN values with zeros in each of the delay reason columns."
   ]
  },
  {
   "cell_type": "code",
   "execution_count": null,
   "metadata": {
    "collapsed": false
   },
   "outputs": [],
   "source": [
    "df['CARRIER_DELAY'] = df['CARRIER_DELAY'].fillna(0)\n",
    "df['WEATHER_DELAY'] = df['WEATHER_DELAY'].fillna(0)\n",
    "df['NAS_DELAY'] = df['NAS_DELAY'].fillna(0)\n",
    "df['SECURITY_DELAY'] = df['SECURITY_DELAY'].fillna(0)\n",
    "df['LATE_AIRCRAFT_DELAY'] = df['LATE_AIRCRAFT_DELAY'].fillna(0)"
   ]
  },
  {
   "cell_type": "markdown",
   "metadata": {
    "collapsed": false
   },
   "source": [
    "We want to merge 5 columns, giving each reason a number 1-5: <br>\n",
    "- 'CARRIER_DELAY'\n",
    "- 'WEATHER_DELAY'\n",
    "- 'NAS_DELAY'\n",
    "- 'SECURITY_DELAY'\n",
    "- 'LATE_AIRCRAFT_DELAY'\n",
    "<br> into one column __'DELAY_REASON'__. <br>\n",
    "0 defines the flights that didn't get delayed."
   ]
  },
  {
   "cell_type": "code",
   "execution_count": null,
   "metadata": {
    "collapsed": false
   },
   "outputs": [
    {
     "data": {
      "text/html": [
       "<div>\n",
       "<style scoped>\n",
       "    .dataframe tbody tr th:only-of-type {\n",
       "        vertical-align: middle;\n",
       "    }\n",
       "\n",
       "    .dataframe tbody tr th {\n",
       "        vertical-align: top;\n",
       "    }\n",
       "\n",
       "    .dataframe thead th {\n",
       "        text-align: right;\n",
       "    }\n",
       "</style>\n",
       "<table border=\"1\" class=\"dataframe\">\n",
       "  <thead>\n",
       "    <tr style=\"text-align: right;\">\n",
       "      <th></th>\n",
       "      <th>DAY_OF_MONTH</th>\n",
       "      <th>DAY_OF_WEEK</th>\n",
       "      <th>MKT_CARRIER_AIRLINE_ID</th>\n",
       "      <th>MKT_CARRIER_FL_NUM</th>\n",
       "      <th>ORIGIN_AIRPORT_ID</th>\n",
       "      <th>DEST_AIRPORT_ID</th>\n",
       "      <th>CRS_DEP_TIME</th>\n",
       "      <th>DEP_DELAY_NEW</th>\n",
       "      <th>TAXI_OUT</th>\n",
       "      <th>WHEELS_OFF</th>\n",
       "      <th>...</th>\n",
       "      <th>CRS_ELAPSED_TIME</th>\n",
       "      <th>ACTUAL_ELAPSED_TIME</th>\n",
       "      <th>AIR_TIME</th>\n",
       "      <th>DISTANCE</th>\n",
       "      <th>CARRIER_DELAY</th>\n",
       "      <th>WEATHER_DELAY</th>\n",
       "      <th>NAS_DELAY</th>\n",
       "      <th>SECURITY_DELAY</th>\n",
       "      <th>LATE_AIRCRAFT_DELAY</th>\n",
       "      <th>DELAY_REASON</th>\n",
       "    </tr>\n",
       "  </thead>\n",
       "  <tbody>\n",
       "    <tr>\n",
       "      <th>0</th>\n",
       "      <td>18</td>\n",
       "      <td>4</td>\n",
       "      <td>19790</td>\n",
       "      <td>4036</td>\n",
       "      <td>12197</td>\n",
       "      <td>10397</td>\n",
       "      <td>1240</td>\n",
       "      <td>0.0</td>\n",
       "      <td>13.0</td>\n",
       "      <td>1248.0</td>\n",
       "      <td>...</td>\n",
       "      <td>140</td>\n",
       "      <td>141.0</td>\n",
       "      <td>118.0</td>\n",
       "      <td>780</td>\n",
       "      <td>0.0</td>\n",
       "      <td>0.0</td>\n",
       "      <td>0.0</td>\n",
       "      <td>0.0</td>\n",
       "      <td>0.0</td>\n",
       "      <td>0</td>\n",
       "    </tr>\n",
       "    <tr>\n",
       "      <th>1</th>\n",
       "      <td>18</td>\n",
       "      <td>4</td>\n",
       "      <td>19790</td>\n",
       "      <td>4037</td>\n",
       "      <td>11433</td>\n",
       "      <td>10408</td>\n",
       "      <td>2146</td>\n",
       "      <td>0.0</td>\n",
       "      <td>20.0</td>\n",
       "      <td>2158.0</td>\n",
       "      <td>...</td>\n",
       "      <td>78</td>\n",
       "      <td>86.0</td>\n",
       "      <td>61.0</td>\n",
       "      <td>296</td>\n",
       "      <td>0.0</td>\n",
       "      <td>0.0</td>\n",
       "      <td>0.0</td>\n",
       "      <td>0.0</td>\n",
       "      <td>0.0</td>\n",
       "      <td>0</td>\n",
       "    </tr>\n",
       "    <tr>\n",
       "      <th>2</th>\n",
       "      <td>18</td>\n",
       "      <td>4</td>\n",
       "      <td>19790</td>\n",
       "      <td>4038</td>\n",
       "      <td>11433</td>\n",
       "      <td>10408</td>\n",
       "      <td>1555</td>\n",
       "      <td>0.0</td>\n",
       "      <td>15.0</td>\n",
       "      <td>1606.0</td>\n",
       "      <td>...</td>\n",
       "      <td>84</td>\n",
       "      <td>69.0</td>\n",
       "      <td>50.0</td>\n",
       "      <td>296</td>\n",
       "      <td>0.0</td>\n",
       "      <td>0.0</td>\n",
       "      <td>0.0</td>\n",
       "      <td>0.0</td>\n",
       "      <td>0.0</td>\n",
       "      <td>0</td>\n",
       "    </tr>\n",
       "    <tr>\n",
       "      <th>3</th>\n",
       "      <td>18</td>\n",
       "      <td>4</td>\n",
       "      <td>19790</td>\n",
       "      <td>4039</td>\n",
       "      <td>10408</td>\n",
       "      <td>11433</td>\n",
       "      <td>1755</td>\n",
       "      <td>0.0</td>\n",
       "      <td>18.0</td>\n",
       "      <td>1812.0</td>\n",
       "      <td>...</td>\n",
       "      <td>89</td>\n",
       "      <td>77.0</td>\n",
       "      <td>50.0</td>\n",
       "      <td>296</td>\n",
       "      <td>0.0</td>\n",
       "      <td>0.0</td>\n",
       "      <td>0.0</td>\n",
       "      <td>0.0</td>\n",
       "      <td>0.0</td>\n",
       "      <td>0</td>\n",
       "    </tr>\n",
       "    <tr>\n",
       "      <th>4</th>\n",
       "      <td>18</td>\n",
       "      <td>4</td>\n",
       "      <td>19790</td>\n",
       "      <td>4040</td>\n",
       "      <td>11898</td>\n",
       "      <td>13487</td>\n",
       "      <td>1311</td>\n",
       "      <td>41.0</td>\n",
       "      <td>9.0</td>\n",
       "      <td>1401.0</td>\n",
       "      <td>...</td>\n",
       "      <td>75</td>\n",
       "      <td>63.0</td>\n",
       "      <td>50.0</td>\n",
       "      <td>284</td>\n",
       "      <td>29.0</td>\n",
       "      <td>0.0</td>\n",
       "      <td>0.0</td>\n",
       "      <td>0.0</td>\n",
       "      <td>0.0</td>\n",
       "      <td>1</td>\n",
       "    </tr>\n",
       "  </tbody>\n",
       "</table>\n",
       "<p>5 rows × 25 columns</p>\n",
       "</div>"
      ],
      "text/plain": [
       "   DAY_OF_MONTH  DAY_OF_WEEK  MKT_CARRIER_AIRLINE_ID  MKT_CARRIER_FL_NUM  \\\n",
       "0            18            4                   19790                4036   \n",
       "1            18            4                   19790                4037   \n",
       "2            18            4                   19790                4038   \n",
       "3            18            4                   19790                4039   \n",
       "4            18            4                   19790                4040   \n",
       "\n",
       "   ORIGIN_AIRPORT_ID  DEST_AIRPORT_ID  CRS_DEP_TIME  DEP_DELAY_NEW  TAXI_OUT  \\\n",
       "0              12197            10397          1240            0.0      13.0   \n",
       "1              11433            10408          2146            0.0      20.0   \n",
       "2              11433            10408          1555            0.0      15.0   \n",
       "3              10408            11433          1755            0.0      18.0   \n",
       "4              11898            13487          1311           41.0       9.0   \n",
       "\n",
       "   WHEELS_OFF  ...  CRS_ELAPSED_TIME  ACTUAL_ELAPSED_TIME  AIR_TIME  DISTANCE  \\\n",
       "0      1248.0  ...               140                141.0     118.0       780   \n",
       "1      2158.0  ...                78                 86.0      61.0       296   \n",
       "2      1606.0  ...                84                 69.0      50.0       296   \n",
       "3      1812.0  ...                89                 77.0      50.0       296   \n",
       "4      1401.0  ...                75                 63.0      50.0       284   \n",
       "\n",
       "   CARRIER_DELAY  WEATHER_DELAY  NAS_DELAY  SECURITY_DELAY  \\\n",
       "0            0.0            0.0        0.0             0.0   \n",
       "1            0.0            0.0        0.0             0.0   \n",
       "2            0.0            0.0        0.0             0.0   \n",
       "3            0.0            0.0        0.0             0.0   \n",
       "4           29.0            0.0        0.0             0.0   \n",
       "\n",
       "   LATE_AIRCRAFT_DELAY  DELAY_REASON  \n",
       "0                  0.0             0  \n",
       "1                  0.0             0  \n",
       "2                  0.0             0  \n",
       "3                  0.0             0  \n",
       "4                  0.0             1  \n",
       "\n",
       "[5 rows x 25 columns]"
      ]
     },
     "execution_count": 106,
     "metadata": {},
     "output_type": "execute_result"
    }
   ],
   "source": [
    "conditions = [(df['CARRIER_DELAY'] != 0), (df['WEATHER_DELAY'] != 0), (df['NAS_DELAY'] != 0),\n",
    "              (df['SECURITY_DELAY'] != 0), (df['LATE_AIRCRAFT_DELAY']) != 0]\n",
    "\n",
    "values = [1, 2, 3, 4, 5]\n",
    "df['DELAY_REASON'] = np.select(conditions, values)\n",
    "df.head()"
   ]
  },
  {
   "cell_type": "markdown",
   "metadata": {
    "collapsed": false
   },
   "source": [
    "Dropping the columns:\n",
    "- 'CARRIER_DELAY'\n",
    "- 'WEATHER_DELAY'\n",
    "- 'NAS_DELAY'\n",
    "- 'SECURITY_DELAY'\n",
    "- 'LATE_AIRCRAFT_DELAY'"
   ]
  },
  {
   "cell_type": "code",
   "execution_count": null,
   "metadata": {
    "collapsed": false
   },
   "outputs": [],
   "source": [
    "df.drop(['CARRIER_DELAY', 'WEATHER_DELAY', 'NAS_DELAY', 'SECURITY_DELAY', 'LATE_AIRCRAFT_DELAY'], axis=1, inplace=True)"
   ]
  },
  {
   "cell_type": "markdown",
   "metadata": {
    "collapsed": false
   },
   "source": [
    "Prepare the label 'ARR_DELAY' we want to predict.\n",
    "- Less than 15 minutes: 0\n",
    "- 15 minutes to 30 minutes: 1\n",
    "- 30 minutes to 45 minutes: 2\n",
    "- 45 minutes to 60 minutes: 3\n",
    "- more than 60 minutes: 4"
   ]
  },
  {
   "cell_type": "code",
   "execution_count": null,
   "metadata": {
    "collapsed": false
   },
   "outputs": [
    {
     "data": {
      "text/html": [
       "<div>\n",
       "<style scoped>\n",
       "    .dataframe tbody tr th:only-of-type {\n",
       "        vertical-align: middle;\n",
       "    }\n",
       "\n",
       "    .dataframe tbody tr th {\n",
       "        vertical-align: top;\n",
       "    }\n",
       "\n",
       "    .dataframe thead th {\n",
       "        text-align: right;\n",
       "    }\n",
       "</style>\n",
       "<table border=\"1\" class=\"dataframe\">\n",
       "  <thead>\n",
       "    <tr style=\"text-align: right;\">\n",
       "      <th></th>\n",
       "      <th>DAY_OF_MONTH</th>\n",
       "      <th>DAY_OF_WEEK</th>\n",
       "      <th>MKT_CARRIER_AIRLINE_ID</th>\n",
       "      <th>MKT_CARRIER_FL_NUM</th>\n",
       "      <th>ORIGIN_AIRPORT_ID</th>\n",
       "      <th>DEST_AIRPORT_ID</th>\n",
       "      <th>CRS_DEP_TIME</th>\n",
       "      <th>DEP_DELAY_NEW</th>\n",
       "      <th>TAXI_OUT</th>\n",
       "      <th>WHEELS_OFF</th>\n",
       "      <th>...</th>\n",
       "      <th>CRS_ELAPSED_TIME</th>\n",
       "      <th>ACTUAL_ELAPSED_TIME</th>\n",
       "      <th>AIR_TIME</th>\n",
       "      <th>DISTANCE</th>\n",
       "      <th>DELAY_REASON</th>\n",
       "      <th>DELAY_0</th>\n",
       "      <th>DELAY_1</th>\n",
       "      <th>DELAY_2</th>\n",
       "      <th>DELAY_3</th>\n",
       "      <th>DELAY_4</th>\n",
       "    </tr>\n",
       "  </thead>\n",
       "  <tbody>\n",
       "    <tr>\n",
       "      <th>0</th>\n",
       "      <td>18</td>\n",
       "      <td>4</td>\n",
       "      <td>19790</td>\n",
       "      <td>4036</td>\n",
       "      <td>12197</td>\n",
       "      <td>10397</td>\n",
       "      <td>1240</td>\n",
       "      <td>0.0</td>\n",
       "      <td>13.0</td>\n",
       "      <td>1248.0</td>\n",
       "      <td>...</td>\n",
       "      <td>140</td>\n",
       "      <td>141.0</td>\n",
       "      <td>118.0</td>\n",
       "      <td>780</td>\n",
       "      <td>0</td>\n",
       "      <td>1</td>\n",
       "      <td>0</td>\n",
       "      <td>0</td>\n",
       "      <td>0</td>\n",
       "      <td>0</td>\n",
       "    </tr>\n",
       "    <tr>\n",
       "      <th>1</th>\n",
       "      <td>18</td>\n",
       "      <td>4</td>\n",
       "      <td>19790</td>\n",
       "      <td>4037</td>\n",
       "      <td>11433</td>\n",
       "      <td>10408</td>\n",
       "      <td>2146</td>\n",
       "      <td>0.0</td>\n",
       "      <td>20.0</td>\n",
       "      <td>2158.0</td>\n",
       "      <td>...</td>\n",
       "      <td>78</td>\n",
       "      <td>86.0</td>\n",
       "      <td>61.0</td>\n",
       "      <td>296</td>\n",
       "      <td>0</td>\n",
       "      <td>1</td>\n",
       "      <td>0</td>\n",
       "      <td>0</td>\n",
       "      <td>0</td>\n",
       "      <td>0</td>\n",
       "    </tr>\n",
       "    <tr>\n",
       "      <th>2</th>\n",
       "      <td>18</td>\n",
       "      <td>4</td>\n",
       "      <td>19790</td>\n",
       "      <td>4038</td>\n",
       "      <td>11433</td>\n",
       "      <td>10408</td>\n",
       "      <td>1555</td>\n",
       "      <td>0.0</td>\n",
       "      <td>15.0</td>\n",
       "      <td>1606.0</td>\n",
       "      <td>...</td>\n",
       "      <td>84</td>\n",
       "      <td>69.0</td>\n",
       "      <td>50.0</td>\n",
       "      <td>296</td>\n",
       "      <td>0</td>\n",
       "      <td>1</td>\n",
       "      <td>0</td>\n",
       "      <td>0</td>\n",
       "      <td>0</td>\n",
       "      <td>0</td>\n",
       "    </tr>\n",
       "    <tr>\n",
       "      <th>3</th>\n",
       "      <td>18</td>\n",
       "      <td>4</td>\n",
       "      <td>19790</td>\n",
       "      <td>4039</td>\n",
       "      <td>10408</td>\n",
       "      <td>11433</td>\n",
       "      <td>1755</td>\n",
       "      <td>0.0</td>\n",
       "      <td>18.0</td>\n",
       "      <td>1812.0</td>\n",
       "      <td>...</td>\n",
       "      <td>89</td>\n",
       "      <td>77.0</td>\n",
       "      <td>50.0</td>\n",
       "      <td>296</td>\n",
       "      <td>0</td>\n",
       "      <td>1</td>\n",
       "      <td>0</td>\n",
       "      <td>0</td>\n",
       "      <td>0</td>\n",
       "      <td>0</td>\n",
       "    </tr>\n",
       "    <tr>\n",
       "      <th>4</th>\n",
       "      <td>18</td>\n",
       "      <td>4</td>\n",
       "      <td>19790</td>\n",
       "      <td>4040</td>\n",
       "      <td>11898</td>\n",
       "      <td>13487</td>\n",
       "      <td>1311</td>\n",
       "      <td>41.0</td>\n",
       "      <td>9.0</td>\n",
       "      <td>1401.0</td>\n",
       "      <td>...</td>\n",
       "      <td>75</td>\n",
       "      <td>63.0</td>\n",
       "      <td>50.0</td>\n",
       "      <td>284</td>\n",
       "      <td>1</td>\n",
       "      <td>0</td>\n",
       "      <td>1</td>\n",
       "      <td>0</td>\n",
       "      <td>0</td>\n",
       "      <td>0</td>\n",
       "    </tr>\n",
       "  </tbody>\n",
       "</table>\n",
       "<p>5 rows × 25 columns</p>\n",
       "</div>"
      ],
      "text/plain": [
       "   DAY_OF_MONTH  DAY_OF_WEEK  MKT_CARRIER_AIRLINE_ID  MKT_CARRIER_FL_NUM  \\\n",
       "0            18            4                   19790                4036   \n",
       "1            18            4                   19790                4037   \n",
       "2            18            4                   19790                4038   \n",
       "3            18            4                   19790                4039   \n",
       "4            18            4                   19790                4040   \n",
       "\n",
       "   ORIGIN_AIRPORT_ID  DEST_AIRPORT_ID  CRS_DEP_TIME  DEP_DELAY_NEW  TAXI_OUT  \\\n",
       "0              12197            10397          1240            0.0      13.0   \n",
       "1              11433            10408          2146            0.0      20.0   \n",
       "2              11433            10408          1555            0.0      15.0   \n",
       "3              10408            11433          1755            0.0      18.0   \n",
       "4              11898            13487          1311           41.0       9.0   \n",
       "\n",
       "   WHEELS_OFF  ...  CRS_ELAPSED_TIME  ACTUAL_ELAPSED_TIME  AIR_TIME  DISTANCE  \\\n",
       "0      1248.0  ...               140                141.0     118.0       780   \n",
       "1      2158.0  ...                78                 86.0      61.0       296   \n",
       "2      1606.0  ...                84                 69.0      50.0       296   \n",
       "3      1812.0  ...                89                 77.0      50.0       296   \n",
       "4      1401.0  ...                75                 63.0      50.0       284   \n",
       "\n",
       "   DELAY_REASON  DELAY_0  DELAY_1  DELAY_2  DELAY_3  DELAY_4  \n",
       "0             0        1        0        0        0        0  \n",
       "1             0        1        0        0        0        0  \n",
       "2             0        1        0        0        0        0  \n",
       "3             0        1        0        0        0        0  \n",
       "4             1        0        1        0        0        0  \n",
       "\n",
       "[5 rows x 25 columns]"
      ]
     },
     "execution_count": 108,
     "metadata": {},
     "output_type": "execute_result"
    }
   ],
   "source": [
    "delay = []\n",
    "for flight_del in df['ARR_DELAY']:\n",
    "    if flight_del > 60:\n",
    "        delay.append(4)\n",
    "    elif flight_del > 45:\n",
    "        delay.append(3)\n",
    "    elif flight_del > 30:\n",
    "        delay.append(2)\n",
    "    elif flight_del > 15:\n",
    "        delay.append(1)\n",
    "    else:\n",
    "        delay.append(0)\n",
    "df['ARR_DELAY'] = delay\n",
    "df.rename(columns={'ARR_DELAY': 'DELAY'}, inplace=True)\n",
    "\n",
    "delay0 = []\n",
    "delay1 = []\n",
    "delay2 = []\n",
    "delay3 = []\n",
    "delay4 = []\n",
    "for flight_del in df['DELAY']:\n",
    "    if flight_del == 4:\n",
    "        delay4.append(1)\n",
    "        delay0.append(0)\n",
    "        delay1.append(0)\n",
    "        delay2.append(0)\n",
    "        delay3.append(0)\n",
    "    if flight_del == 3:\n",
    "        delay4.append(0)\n",
    "        delay0.append(0)\n",
    "        delay1.append(0)\n",
    "        delay2.append(0)\n",
    "        delay3.append(1)\n",
    "    if flight_del == 2:\n",
    "        delay4.append(0)\n",
    "        delay0.append(0)\n",
    "        delay1.append(0)\n",
    "        delay2.append(1)\n",
    "        delay3.append(0)\n",
    "    if flight_del == 1:\n",
    "        delay4.append(0)\n",
    "        delay0.append(0)\n",
    "        delay1.append(1)\n",
    "        delay2.append(0)\n",
    "        delay3.append(0)\n",
    "    if flight_del == 0:\n",
    "        delay4.append(0)\n",
    "        delay0.append(1)\n",
    "        delay1.append(0)\n",
    "        delay2.append(0)\n",
    "        delay3.append(0)\n",
    "df['DELAY_0'] = delay0\n",
    "df['DELAY_1'] = delay1\n",
    "df['DELAY_2'] = delay2\n",
    "df['DELAY_3'] = delay3\n",
    "df['DELAY_4'] = delay4\n",
    "\n",
    "df.head()"
   ]
  },
  {
   "cell_type": "code",
   "execution_count": null,
   "metadata": {
    "collapsed": false
   },
   "outputs": [],
   "source": [
    "df.drop(['ARR_TIME', 'ACTUAL_ELAPSED_TIME'], axis=1, inplace=True)"
   ]
  },
  {
   "cell_type": "code",
   "execution_count": null,
   "metadata": {
    "collapsed": false
   },
   "outputs": [
    {
     "data": {
      "text/plain": [
       "DAY_OF_MONTH              0\n",
       "DAY_OF_WEEK               0\n",
       "MKT_CARRIER_AIRLINE_ID    0\n",
       "MKT_CARRIER_FL_NUM        0\n",
       "ORIGIN_AIRPORT_ID         0\n",
       "DEST_AIRPORT_ID           0\n",
       "CRS_DEP_TIME              0\n",
       "DEP_DELAY_NEW             0\n",
       "TAXI_OUT                  0\n",
       "WHEELS_OFF                0\n",
       "WHEELS_ON                 0\n",
       "TAXI_IN                   0\n",
       "CRS_ARR_TIME              0\n",
       "DELAY                     0\n",
       "CRS_ELAPSED_TIME          0\n",
       "AIR_TIME                  0\n",
       "DISTANCE                  0\n",
       "DELAY_REASON              0\n",
       "DELAY_0                   0\n",
       "DELAY_1                   0\n",
       "DELAY_2                   0\n",
       "DELAY_3                   0\n",
       "DELAY_4                   0\n",
       "dtype: int64"
      ]
     },
     "execution_count": 110,
     "metadata": {},
     "output_type": "execute_result"
    }
   ],
   "source": [
    "df = df.dropna()\n",
    "df.isnull().sum()"
   ]
  },
  {
   "cell_type": "code",
   "execution_count": null,
   "metadata": {
    "collapsed": false
   },
   "outputs": [
    {
     "data": {
      "text/plain": [
       "DAY_OF_MONTH                int64\n",
       "DAY_OF_WEEK                 int64\n",
       "MKT_CARRIER_AIRLINE_ID      int64\n",
       "MKT_CARRIER_FL_NUM          int64\n",
       "ORIGIN_AIRPORT_ID           int64\n",
       "DEST_AIRPORT_ID             int64\n",
       "CRS_DEP_TIME                int64\n",
       "DEP_DELAY_NEW             float64\n",
       "TAXI_OUT                  float64\n",
       "WHEELS_OFF                float64\n",
       "WHEELS_ON                 float64\n",
       "TAXI_IN                   float64\n",
       "CRS_ARR_TIME                int64\n",
       "DELAY                       int64\n",
       "CRS_ELAPSED_TIME            int64\n",
       "AIR_TIME                  float64\n",
       "DISTANCE                    int64\n",
       "DELAY_REASON                int32\n",
       "DELAY_0                     int64\n",
       "DELAY_1                     int64\n",
       "DELAY_2                     int64\n",
       "DELAY_3                     int64\n",
       "DELAY_4                     int64\n",
       "dtype: object"
      ]
     },
     "execution_count": 111,
     "metadata": {},
     "output_type": "execute_result"
    }
   ],
   "source": [
    "df.dtypes"
   ]
  },
  {
   "cell_type": "code",
   "execution_count": null,
   "metadata": {
    "collapsed": false
   },
   "outputs": [],
   "source": [
    "df = df.sample(n=1000)"
   ]
  },
  {
   "cell_type": "code",
   "execution_count": null,
   "metadata": {
    "collapsed": false
   },
   "outputs": [
    {
     "name": "stdout",
     "output_type": "stream",
     "text": [
      "X shape:  (1000, 17) \n",
      "Y shape:  (1000, 5)\n"
     ]
    }
   ],
   "source": [
    "X = df.drop(['DELAY', 'DELAY_0', 'DELAY_1', 'DELAY_2', 'DELAY_3', 'DELAY_4'], axis=1)\n",
    "Y = df[['DELAY_0', 'DELAY_1', 'DELAY_2', 'DELAY_3', 'DELAY_4']]\n",
    "print(\"X shape: \", X.shape, \"\\nY shape: \", Y.shape)"
   ]
  },
  {
   "cell_type": "code",
   "execution_count": null,
   "metadata": {
    "collapsed": false
   },
   "outputs": [],
   "source": [
    "smote = SMOTE()\n",
    "X_data, Y_data = smote.fit_resample(X.to_numpy(), Y.to_numpy())"
   ]
  },
  {
   "cell_type": "code",
   "execution_count": null,
   "metadata": {
    "collapsed": false
   },
   "outputs": [
    {
     "data": {
      "text/plain": [
       "array([[ 1.09930271, -1.04546464,  0.12290052, ..., -1.05469336,\n",
       "        -1.04088408, -0.41481666],\n",
       "       [-1.52458816, -0.45201939, -1.3624324 , ...,  0.01079175,\n",
       "        -0.06108706, -0.41481666],\n",
       "       [-0.21264272,  1.32831636,  0.12290052, ...,  2.79188847,\n",
       "         2.87616002, -1.21085198],\n",
       "       ...,\n",
       "       [-0.07572768,  0.14142586,  1.62325335, ...,  1.80964887,\n",
       "         1.26288992,  0.03510215],\n",
       "       [-1.22627892,  0.89735225,  1.12893618, ..., -0.04058314,\n",
       "         0.0994909 ,  0.74135622],\n",
       "       [-1.27713184, -0.06893349,  0.06882286, ..., -0.64139027,\n",
       "        -0.6837012 , -0.13264493]])"
      ]
     },
     "execution_count": 145,
     "metadata": {},
     "output_type": "execute_result"
    }
   ],
   "source": [
    "scale = StandardScaler()\n",
    "X_data = scale.fit_transform(X_data)\n",
    "X_data"
   ]
  },
  {
   "cell_type": "code",
   "execution_count": null,
   "metadata": {
    "collapsed": false
   },
   "outputs": [],
   "source": [
    "# Define the number of units in the RNN cell\n",
    "num_units = 128\n",
    "\n",
    "# Define the input and output placeholders\n",
    "x = tf.placeholder(tf.float32, [None, features])\n",
    "y_ = tf.placeholder(tf.float32, [None, 5])\n",
    "\n",
    "# Define the RNN cell\n",
    "rnn_cell = tf.nn.rnn_cell.BasicLSTMCell(num_units)\n",
    "\n",
    "# Define the RNN model\n",
    "outputs, states = tf.nn.dynamic_rnn(rnn_cell, x, dtype=tf.float32)\n",
    "\n",
    "# Define the output layer\n",
    "W = tf.Variable(tf.zeros([num_units, 5]))\n",
    "b = tf.Variable(tf.zeros([5]))\n",
    "pred = tf.nn.softmax(tf.add(tf.matmul(outputs[:, -1], W), b))\n",
    "\n",
    "# Define the loss function and optimizer\n",
    "loss = -tf.reduce_mean(y_ * tf.log(pred))\n",
    "update = tf.train.GradientDescentOptimizer(0.01).minimize(loss)\n",
    "\n",
    "# Calculate the accuracy\n",
    "correct_pred = tf.equal(tf.argmax(pred, 1), tf.argmax(y_, 1))\n",
    "accuracy = tf.reduce_mean(tf.cast(correct_pred, tf.float32))\n"
   ]
  },
  {
   "cell_type": "code",
   "execution_count": null,
   "metadata": {
    "collapsed": false
   },
   "outputs": [],
   "source": [
    "X_train, X_test, Y_train, Y_test = train_test_split(X_data, Y_data, test_size=0.2, random_state=1)\n",
    "X_train, X_val, Y_train, Y_val = train_test_split(X_train, Y_train, test_size=0.25, random_state=1)\n",
    "Y_train = Y_train.reshape((Y_train.shape[0],5))\n",
    "Y_val = Y_val.reshape((Y_val.shape[0],5))\n",
    "Y_test = Y_test.reshape((Y_test.shape[0],5))"
   ]
  },
  {
   "cell_type": "code",
   "execution_count": null,
   "metadata": {
    "collapsed": false
   },
   "outputs": [
    {
     "name": "stdout",
     "output_type": "stream",
     "text": [
      "epoch 0, cost = 306.148\n",
      "epoch 100, cost = 254.508\n",
      "epoch 200, cost = 225.481\n"
     ]
    }
   ],
   "source": [
    "# Train the model\n",
    "epoches = 300\n",
    "batch_size = 300\n",
    "errors = []\n",
    "\n",
    "with tf.Session() as sess:\n",
    "    sess.run(tf.global_variables_initializer())\n",
    "    for i in range(epoches):\n",
    "        for start, end in zip(range(0, len(X_train), batch_size),range(batch_size, len(X_train), batch_size)):\n",
    "            sess.run(update, feed_dict = {x: X_train[start:end],y_: Y_train[start:end]})\n",
    "        cost = sess.run(tf.nn.l2_loss(pred - Y_val),feed_dict = {x:X_val})\n",
    "        errors.append(cost)\n",
    "        if i%100 == 0:\n",
    "            print(\"epoch %d, cost = %g\" % (i, cost))\n",
    "    \n",
    "    # Calculate the accuracy on the test set\n",
    "    test_accuracy = sess.run(accuracy, feed_dict = {x: X_test, y_: Y_test})\n",
    "    print(\"Test accuracy: %g\" % test_accuracy)\n"
   ]
  },
  {
   "cell_type": "code",
   "execution_count": null,
   "metadata": {
    "collapsed": false
   },
   "outputs": [
    {
     "data": {
      "image/png": "[encoded data removed]",
      "text/plain": [
       "<Figure size 640x480 with 1 Axes>"
      ]
     },
     "metadata": {},
     "output_type": "display_data"
    }
   ],
   "source": [
    "import matplotlib.pyplot as plt\n",
    "plt.plot(errors,label='Loss')\n",
    "plt.xlabel('epochs')\n",
    "plt.ylabel('cost')\n",
    "plt.legend()\n",
    "plt.show()"
   ]
  },
  {
   "cell_type": "code",
   "execution_count": null,
   "metadata": {
    "collapsed": false
   },
   "outputs": [
    {
     "name": "stdout",
     "output_type": "stream",
     "text": [
      "Accuracy:  0.66\n"
     ]
    }
   ],
   "source": [
    "print(\"Accuracy: \", round(sess.run(accuracy, feed_dict={x:X_test, y_:Y_test}),2))"
   ]
  },
  {
   "cell_type": "code",
   "execution_count": null,
   "metadata": {
    "collapsed": false
   },
   "outputs": [
    {
     "name": "stdout",
     "output_type": "stream",
     "text": [
      "Accuracy:  0.66\n"
     ]
    }
   ],
   "source": [
    "print(\"Accuracy: \", round(sess.run(accuracy, feed_dict={x:X_test, y_:Y_test}),2))"
   ]
  },
  {
   "cell_type": "markdown",
   "metadata": {
    "collapsed": false
   },
   "source": [
    "#### Let's try optimizing the accuracy:"
   ]
  },
  {
   "cell_type": "markdown",
   "metadata": {
    "collapsed": false
   },
   "source": [
    "#### 3 Hidden layers:"
   ]
  },
  {
   "cell_type": "code",
   "execution_count": null,
   "metadata": {
    "collapsed": false
   },
   "outputs": [
    {
     "name": "stderr",
     "output_type": "stream",
     "text": [
      "C:\\Users\\malak\\AppData\\Local\\Temp\\ipykernel_42792\\3876260806.py:6: UserWarning: `tf.layers.dense` is deprecated and will be removed in a future version. Please use `tf.keras.layers.Dense` instead.\n",
      "  hidden1 = tf.layers.dense(X, 64, activation=tf.nn.relu)\n",
      "C:\\Users\\malak\\AppData\\Local\\Temp\\ipykernel_42792\\3876260806.py:7: UserWarning: `tf.layers.dense` is deprecated and will be removed in a future version. Please use `tf.keras.layers.Dense` instead.\n",
      "  hidden2 = tf.layers.dense(hidden1, 32, activation=tf.nn.relu)\n",
      "C:\\Users\\malak\\AppData\\Local\\Temp\\ipykernel_42792\\3876260806.py:8: UserWarning: `tf.layers.dense` is deprecated and will be removed in a future version. Please use `tf.keras.layers.Dense` instead.\n",
      "  hidden3 = tf.layers.dense(hidden2, 16, activation=tf.nn.relu)\n",
      "C:\\Users\\malak\\AppData\\Local\\Temp\\ipykernel_42792\\3876260806.py:11: UserWarning: `tf.layers.dense` is deprecated and will be removed in a future version. Please use `tf.keras.layers.Dense` instead.\n",
      "  logits = tf.layers.dense(hidden3, 5, activation=tf.nn.softmax)\n"
     ]
    }
   ],
   "source": [
    "# Placeholder variables for the input features and labels\n",
    "X = tf.placeholder(tf.float32, shape=[None, 17])\n",
    "y = tf.placeholder(tf.float32, shape=[None, 5])\n",
    "\n",
    "# Define the hidden layers\n",
    "hidden1 = tf.layers.dense(X, 64, activation=tf.nn.relu)\n",
    "hidden2 = tf.layers.dense(hidden1, 32, activation=tf.nn.relu)\n",
    "hidden3 = tf.layers.dense(hidden2, 16, activation=tf.nn.relu)\n",
    "\n",
    "# Define the output layer using the softmax function\n",
    "logits = tf.layers.dense(hidden3, 5, activation=tf.nn.softmax)\n",
    "\n",
    "# Define the loss function and optimizer\n",
    "loss = tf.reduce_mean(tf.nn.softmax_cross_entropy_with_logits_v2(logits=logits, labels=y))\n",
    "optimizer = tf.train.AdamOptimizer().minimize(loss)\n"
   ]
  },
  {
   "cell_type": "code",
   "execution_count": null,
   "metadata": {
    "collapsed": false
   },
   "outputs": [
    {
     "name": "stdout",
     "output_type": "stream",
     "text": [
      "Accuracy:  0.92\n"
     ]
    }
   ],
   "source": [
    "with tf.Session() as sess:\n",
    "    # Initialize the variables\n",
    "    sess.run(tf.global_variables_initializer())\n",
    "\n",
    "    # Train the model on the training set\n",
    "    for i in range(300):\n",
    "        sess.run(optimizer, feed_dict={X: X_train, y: Y_train})\n",
    "\n",
    "    # Evaluate the model on the test set\n",
    "    accuracy = sess.run(loss, feed_dict={X: X_test, y: Y_test})\n",
    "    print(\"Accuracy: \",round(accuracy, 2))"
   ]
  },
  {
   "cell_type": "markdown",
   "metadata": {
    "collapsed": false
   },
   "source": [
    "#### 5 hidden layers:"
   ]
  },
  {
   "cell_type": "code",
   "execution_count": null,
   "metadata": {
    "collapsed": false
   },
   "outputs": [],
   "source": [
    "# Define the number of classes\n",
    "num_classes = 5\n",
    "\n",
    "# Define the number of features\n",
    "num_features = 17\n",
    "\n",
    "# Define the number of hidden layers\n",
    "num_hidden_layers = 5\n",
    "\n",
    "# Define the size of each hidden layer\n",
    "hidden_layer_size = 32\n",
    "\n",
    "# Placeholder for the input data\n",
    "X = tf.placeholder(tf.float32, [None, num_features])\n",
    "\n",
    "# Placeholder for the true labels\n",
    "Y_true = tf.placeholder(tf.int32, [None, num_classes])\n",
    "\n",
    "# Define the weights and biases of each hidden layer\n",
    "weights = [\n",
    "    tf.Variable(tf.random_normal([num_features, hidden_layer_size])),\n",
    "    tf.Variable(tf.random_normal([hidden_layer_size, hidden_layer_size])),\n",
    "    tf.Variable(tf.random_normal([hidden_layer_size, hidden_layer_size])),\n",
    "    tf.Variable(tf.random_normal([hidden_layer_size, hidden_layer_size])),\n",
    "    tf.Variable(tf.random_normal([hidden_layer_size, num_classes])),\n",
    "]\n",
    "biases = [\n",
    "    tf.Variable(tf.random_normal([hidden_layer_size])),\n",
    "    tf.Variable(tf.random_normal([hidden_layer_size])),\n",
    "    tf.Variable(tf.random_normal([hidden_layer_size])),\n",
    "    tf.Variable(tf.random_normal([hidden_layer_size])),\n",
    "    tf.Variable(tf.random_normal([num_classes])),\n",
    "]\n",
    "\n",
    "# Define the neural network layers\n",
    "hidden_layer = tf.add(tf.matmul(X, weights[0]), biases[0])\n",
    "hidden_layer = tf.nn.relu(hidden_layer)\n",
    "\n",
    "hidden_layer = tf.add(tf.matmul(hidden_layer, weights[1]), biases[1])\n",
    "hidden_layer = tf.nn.relu(hidden_layer)\n",
    "\n",
    "hidden_layer = tf.add(tf.matmul(hidden_layer, weights[2]), biases[2])\n",
    "hidden_layer = tf.nn.relu(hidden_layer)\n",
    "\n",
    "hidden_layer = tf.add(tf.matmul(hidden_layer, weights[3]), biases[3])\n",
    "hidden_layer = tf.nn.relu(hidden_layer)\n",
    "\n",
    "output_layer = tf.add(tf.matmul(hidden_layer, weights[4]), biases[4])\n",
    "\n",
    "# Define the softmax function to generate the final prediction probabilities\n",
    "predictions = tf.nn.softmax(output_layer)\n",
    "\n",
    "# Define the cross-entropy loss function\n",
    "loss = tf.reduce_mean(tf.nn.softmax_cross_entropy_with_logits_v2(logits=output_layer, labels=Y_true))\n",
    "\n",
    "# Define the optimization method (i.e. gradient descent)\n",
    "optimizer = tf.train.GradientDescentOptimizer(learning_rate=0.001).minimize(loss)\n"
   ]
  },
  {
   "cell_type": "code",
   "execution_count": null,
   "metadata": {
    "collapsed": false
   },
   "outputs": [],
   "source": [
    "correct_predictions = tf.equal(tf.argmax(predictions, 1), tf.argmax(Y_true, 1))\n",
    "accuracy = tf.reduce_mean(tf.cast(correct_predictions, tf.float32))"
   ]
  },
  {
   "cell_type": "code",
   "execution_count": null,
   "metadata": {
    "collapsed": false
   },
   "outputs": [],
   "source": [
    "sess = tf.Session()\n",
    "sess.run(tf.global_variables_initializer())"
   ]
  },
  {
   "cell_type": "code",
   "execution_count": null,
   "metadata": {
    "collapsed": false
   },
   "outputs": [],
   "source": [
    "# Calculate the accuracy on the training set\n",
    "for i in range(1000):\n",
    "    sess.run(accuracy, feed_dict={X: X_train, Y_true: Y_train})"
   ]
  },
  {
   "cell_type": "code",
   "execution_count": null,
   "metadata": {
    "collapsed": false
   },
   "outputs": [
    {
     "name": "stdout",
     "output_type": "stream",
     "text": [
      "Accuracy:  0.77\n"
     ]
    }
   ],
   "source": [
    "test_accuracy = sess.run(accuracy, feed_dict={X: X_test, Y_true: Y_test})\n",
    "print(\"Accuracy: \",round(test_accuracy,2))"
   ]
  }
 ],
 "metadata": {
  "kernelspec": {
   "display_name": "Python 3",
   "language": "python",
   "name": "python3"
  },
  "language_info": {
   "codemirror_mode": {
    "name": "ipython",
    "version": 3
   },
   "file_extension": ".py",
   "mimetype": "text/x-python",
   "name": "python",
   "nbconvert_exporter": "python",
   "pygments_lexer": "ipython3",
   "version": "3.9.13 (tags/v3.9.13:6de2ca5, May 17 2022, 16:36:42) [MSC v.1929 64 bit (AMD64)]"
  },
  "vscode": {
   "interpreter": {
    "hash": "0591a4a146d6bca9ddbbe247f99caf0d47a9f4e7c107ec07f02e192b22b51f16"
   }
  }
 },
 "nbformat": 4,
 "nbformat_minor": 0
}
